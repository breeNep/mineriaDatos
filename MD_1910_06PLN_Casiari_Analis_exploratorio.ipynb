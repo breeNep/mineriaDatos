{
  "nbformat": 4,
  "nbformat_minor": 0,
  "metadata": {
    "colab": {
      "private_outputs": true,
      "provenance": [],
      "include_colab_link": true
    },
    "kernelspec": {
      "name": "python3",
      "display_name": "Python 3"
    },
    "language_info": {
      "name": "python"
    }
  },
  "cells": [
    {
      "cell_type": "markdown",
      "metadata": {
        "id": "view-in-github",
        "colab_type": "text"
      },
      "source": [
        "<a href=\"https://colab.research.google.com/github/breeNep/mineriaDatos/blob/main/MD_1910_06PLN_Casiari_Analis_exploratorio.ipynb\" target=\"_parent\"><img src=\"https://colab.research.google.com/assets/colab-badge.svg\" alt=\"Open In Colab\"/></a>"
      ]
    },
    {
      "cell_type": "code",
      "execution_count": null,
      "metadata": {
        "id": "cBVCVO3D8xvd"
      },
      "outputs": [],
      "source": [
        "import pandas as pd\n",
        "import numpy as np\n",
        "import nltk\n",
        "nltk.download('punkt')\n",
        "from collections import Counter\n",
        "from wordcloud import WordCloud\n",
        "import matplotlib.pyplot as plt\n",
        "import pickle"
      ]
    },
    {
      "cell_type": "code",
      "source": [
        "dtm_df = pd.read_pickle('dtm.pkl')\n",
        "dtm_df"
      ],
      "metadata": {
        "id": "TZWroeBa8397"
      },
      "execution_count": null,
      "outputs": []
    },
    {
      "cell_type": "code",
      "source": [
        "data = dtm_df.transpose()\n",
        "data"
      ],
      "metadata": {
        "id": "djS4dWvj9Mml"
      },
      "execution_count": null,
      "outputs": []
    },
    {
      "cell_type": "code",
      "source": [
        "top_words_per_year = pd.DataFrame()\n",
        "for year in data.columns:\n",
        "    top_words = data[year].nlargest(10)\n",
        "    top_words_per_year = pd.concat([top_words_per_year, top_words], axis =1)\n",
        "\n",
        "top_words_per_year.columns = data.columns\n",
        "top_words_per_year"
      ],
      "metadata": {
        "id": "9LRAKfv_9luR"
      },
      "execution_count": null,
      "outputs": []
    },
    {
      "cell_type": "code",
      "source": [
        "words = [word for year in top_words_per_year.columns for word in top_words_per_year[year].dropna().index]\n",
        "word_counts = Counter(words)\n",
        "word_counts"
      ],
      "metadata": {
        "id": "ijGFVE0M9shI"
      },
      "execution_count": null,
      "outputs": []
    },
    {
      "cell_type": "code",
      "source": [
        "sorted_word_counts = dict(sorted(word_counts.items(), key=lambda item: item[1], reverse=True))\n",
        "\n",
        "labels = list(sorted_word_counts.keys())\n",
        "values = list(sorted_word_counts.values())\n",
        "indices = np.arange(len(labels))\n",
        "\n",
        "plt.figure(figsize=(10,5))\n",
        "plt.bar(indices, values, color='skyblue')\n",
        "plt.xlabel(\"Palabras\")\n",
        "plt.ylabel(\"Frecuencia\")\n",
        "plt.title(\"Frecuencia de las palabras mas comunes\")\n",
        "plt.xticks(indices, labels, rotation='vertical')\n",
        "plt.show()"
      ],
      "metadata": {
        "id": "gJ-t3boQANYP"
      },
      "execution_count": null,
      "outputs": []
    },
    {
      "cell_type": "code",
      "source": [
        "corpus_df = pd.read_pickle('corpus.pkl')\n",
        "corpus_df"
      ],
      "metadata": {
        "id": "3p0ag9hYCCPE"
      },
      "execution_count": null,
      "outputs": []
    },
    {
      "cell_type": "code",
      "source": [
        "words_to_find = [\"casa\", \"mundo\",\"tiempo\", \"vida\"]\n",
        "cfd = nltk.ConditionalFreqDist(\n",
        "    (word, index)\n",
        "    for index, row in corpus_df.iterrows()\n",
        "    for word in nltk.word_tokenize(row['transcript'].lower())\n",
        "    if word in words_to_find\n",
        "\n",
        ")\n",
        "cfd.plot()\n",
        "plt.show()"
      ],
      "metadata": {
        "id": "em6p1PSGCUNS"
      },
      "execution_count": null,
      "outputs": []
    },
    {
      "cell_type": "code",
      "source": [
        "stop_words = pickle.load(open(\"stop_words.pkl\", \"rb\"))\n",
        "data_clean = pd.read_pickle(\"data_clean.pkl\")\n",
        "data_clean"
      ],
      "metadata": {
        "id": "ITBvm04KGU6P"
      },
      "execution_count": null,
      "outputs": []
    },
    {
      "cell_type": "code",
      "source": [
        "wc = WordCloud(stopwords=stop_words, background_color=\"white\", colormap=\"Dark2\",\n",
        "               max_font_size=150, random_state=42)\n",
        "plt.rcParams['figure.figsize'] = [16,12]\n",
        "\n",
        "for index, year in enumerate(corpus_df.index):\n",
        "  wc.generate(corpus_df.transcript[year])\n",
        "  plt.subplot(4,3, index+1)\n",
        "  plt.imshow(wc, interpolation=\"bilinear\")\n",
        "  plt.axis(\"off\")\n",
        "  plt.title(year)\n",
        "\n",
        "  plt.show()"
      ],
      "metadata": {
        "id": "-1KYlKkqG43H"
      },
      "execution_count": null,
      "outputs": []
    },
    {
      "cell_type": "code",
      "source": [
        "from pyparsing import results\n",
        "posts_per_year = [50, 27, 18, 50, 42, 22, 50, 33, 31, 17, 33, 13]\n",
        "results_df = pd.DataFrame(index=data_clean.index)\n",
        "\n",
        "results_df['total_words'] = data_clean['transcript'].apply(lambda x: len(x.split()))\n",
        "results_df['unique_words'] = data_clean['transcript'].apply(lambda x: len(set(x.split())))\n",
        "results_df['post_per_year'] = posts_per_year\n",
        "results_df['words_per_post'] = (results_df['total_words']/ results_df['post_per_year']).round()\n",
        "results_df"
      ],
      "metadata": {
        "id": "J21uO7OlIW0t"
      },
      "execution_count": null,
      "outputs": []
    },
    {
      "cell_type": "code",
      "source": [
        "fig, axs=plt.subplots(2,2, figsize=(15,10))\n",
        "axs = axs.ravel()\n",
        "for i, column in enumerate(results_df.columns):\n",
        "    axs[i].plot(results_df.index, results_df[column], marker='o', linestyle='--', color='b')\n",
        "    axs[i].set_title(column.replace(\"_\", \" \").title())\n",
        "    axs[i].set_xlabel(column.replace(\"_\", \" \").title())\n",
        "    axs[i].set_xlabel(\"Year\")\n",
        "    axs[i].set_ylabel(column.replace(\"_\", \" \").title())\n",
        "\n",
        "    for j, txt in enumerate(results_df[column]):\n",
        "        axs[i].annotate(txt,(results_df.index[j], results_df[column][j]))\n",
        "\n",
        "plt.tight_layout()\n",
        "plt.show()"
      ],
      "metadata": {
        "id": "E4mgqjfqKIoC"
      },
      "execution_count": null,
      "outputs": []
    }
  ]
}